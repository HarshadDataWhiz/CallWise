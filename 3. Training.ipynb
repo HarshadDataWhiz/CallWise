{
 "cells": [
  {
   "cell_type": "code",
   "execution_count": 1,
   "id": "60ed1133",
   "metadata": {},
   "outputs": [
    {
     "name": "stderr",
     "output_type": "stream",
     "text": [
      "c:\\Users\\harsh\\.virtualenvs\\CallWise-_7ZTO6Qn\\Lib\\site-packages\\tqdm\\auto.py:21: TqdmWarning: IProgress not found. Please update jupyter and ipywidgets. See https://ipywidgets.readthedocs.io/en/stable/user_install.html\n",
      "  from .autonotebook import tqdm as notebook_tqdm\n"
     ]
    }
   ],
   "source": [
    "#install torchcodec\n",
    "#pipenv install \"accelerate>=0.26.0\"\n",
    "#pipenv install tensorboard\n",
    "\n",
    "from transformers import WhisperForConditionalGeneration\n",
    "from transformers import WhisperProcessor\n",
    "import os\n",
    "import pandas as pd\n",
    "import json\n",
    "from datasets import Dataset, Audio\n",
    "from typing import Any, List, Dict, Union\n",
    "import torch\n",
    "\n",
    "from transformers import (\n",
    "    Seq2SeqTrainingArguments,\n",
    "    Seq2SeqTrainer\n",
    ")\n",
    "\n",
    "import evaluate\n",
    "\n",
    "model = WhisperForConditionalGeneration.from_pretrained(\"openai/whisper-small\")\n",
    "processor = WhisperProcessor.from_pretrained(\"openai/whisper-small\", language=\"English\", task=\"transcribe\")\n",
    "model.generation_config.task = 'transcribe'\n",
    "model.generation_config.forced_decoder_ids = None"
   ]
  },
  {
   "cell_type": "code",
   "execution_count": 4,
   "id": "7b6d1ac1",
   "metadata": {},
   "outputs": [
    {
     "data": {
      "text/html": [
       "<div>\n",
       "<style scoped>\n",
       "    .dataframe tbody tr th:only-of-type {\n",
       "        vertical-align: middle;\n",
       "    }\n",
       "\n",
       "    .dataframe tbody tr th {\n",
       "        vertical-align: top;\n",
       "    }\n",
       "\n",
       "    .dataframe thead th {\n",
       "        text-align: right;\n",
       "    }\n",
       "</style>\n",
       "<table border=\"1\" class=\"dataframe\">\n",
       "  <thead>\n",
       "    <tr style=\"text-align: right;\">\n",
       "      <th></th>\n",
       "      <th>filename</th>\n",
       "      <th>split</th>\n",
       "      <th>text</th>\n",
       "      <th>path</th>\n",
       "    </tr>\n",
       "  </thead>\n",
       "  <tbody>\n",
       "    <tr>\n",
       "      <th>0</th>\n",
       "      <td>20241215150647_7686868599.mp3_lc_12.wav</td>\n",
       "      <td>train</td>\n",
       "      <td>hello hello sir am i audible hello han hello ...</td>\n",
       "      <td>data\\Processed_Files\\20241215150647_7686868599...</td>\n",
       "    </tr>\n",
       "  </tbody>\n",
       "</table>\n",
       "</div>"
      ],
      "text/plain": [
       "                                  filename  split  \\\n",
       "0  20241215150647_7686868599.mp3_lc_12.wav  train   \n",
       "\n",
       "                                                text  \\\n",
       "0   hello hello sir am i audible hello han hello ...   \n",
       "\n",
       "                                                path  \n",
       "0  data\\Processed_Files\\20241215150647_7686868599...  "
      ]
     },
     "execution_count": 4,
     "metadata": {},
     "output_type": "execute_result"
    }
   ],
   "source": [
    "ROOT_FOLDER = ''\n",
    "\n",
    "processed_path = os.path.join(ROOT_FOLDER, \"data\", \"Processed_Files\")\n",
    "\n",
    "df_train = pd.read_csv(os.path.join(processed_path, \"file_splits.csv\"))\n",
    "df_train = df_train[df_train['split'] == 'train']\n",
    "df_train.reset_index(drop=True, inplace = True)\n",
    "\n",
    "df_val = pd.read_csv(os.path.join(processed_path, \"file_splits.csv\"))\n",
    "df_val = df_val[df_val['split'] == 'val']\n",
    "df_val.reset_index(drop=True, inplace = True)\n",
    "\n",
    "\n",
    "# df_train = df_train[:10]\n",
    "# df_val = df_val[:10]\n",
    "\n",
    "\n",
    "# Read JSON file\n",
    "with open(os.path.join(ROOT_FOLDER, 'data/Processed_Files', \"Transcript.json\"), \"r\", encoding=\"utf-8\") as f:\n",
    "    transcript_json = json.load(f)\n",
    "\n",
    "# Step 3: add text column by mapping filename → transcript\n",
    "df_train[\"text\"] = df_train[\"filename\"].map(transcript_json)\n",
    "df_val[\"text\"] = df_val[\"filename\"].map(transcript_json)\n",
    "# Step 4: add path to audio file\n",
    "df_train[\"path\"] = df_train[\"filename\"].apply(lambda x: os.path.join(processed_path, x))\n",
    "df_val[\"path\"] = df_val[\"filename\"].apply(lambda x: os.path.join(processed_path, x))\n",
    "df_train.head(1)"
   ]
  },
  {
   "cell_type": "code",
   "execution_count": null,
   "id": "fa4ca4d7",
   "metadata": {},
   "outputs": [],
   "source": [
    "# df_train.drop([  53,  151,  159,  239,  253,  263,  299,  448,  480,  483,  627,  716,\n",
    "#         762,  765,  794,  807,  843,  847,  859,  895, 1000, 1010, 1025, 1131,\n",
    "#        1260, 970], inplace = True)\n",
    "# df_val.drop([  85 ], inplace = True)\n",
    "\n"
   ]
  },
  {
   "cell_type": "code",
   "execution_count": null,
   "id": "e43580c0",
   "metadata": {},
   "outputs": [],
   "source": [
    "df_val.head(1)"
   ]
  },
  {
   "cell_type": "code",
   "execution_count": null,
   "id": "4c28c5c1",
   "metadata": {},
   "outputs": [],
   "source": [
    "print(model.config.to_dict().keys())"
   ]
  },
  {
   "cell_type": "code",
   "execution_count": null,
   "id": "2dc6e470",
   "metadata": {},
   "outputs": [],
   "source": [
    "model.config.max_target_positions"
   ]
  },
  {
   "cell_type": "code",
   "execution_count": null,
   "id": "3bb91733",
   "metadata": {},
   "outputs": [],
   "source": [
    "#important preprocessing: there is a maximum sequence length which a model can produce so we need to\n",
    "#remove the labels which after tokenization have length greater than \"maximum sequence length\" which is 1024 in this case \n",
    "\n",
    "\n",
    "df_token_len = df_train[['text']].copy()\n",
    "def safe_token_length(x):\n",
    "    try:\n",
    "        return len(processor.tokenizer(x).input_ids)\n",
    "    except Exception:\n",
    "        return 0   # if error, set length to 0\n",
    "\n",
    "df_token_len['token_length'] = df_token_len['text'].apply(safe_token_length)\n",
    "print(df_token_len[df_token_len['token_length'] == 0].index)\n",
    "print(df_token_len[df_token_len['token_length'] > 448].index)"
   ]
  },
  {
   "cell_type": "code",
   "execution_count": 2,
   "id": "b01a3123",
   "metadata": {},
   "outputs": [],
   "source": [
    "def prepare_dataset(batch):\n",
    "    # Load audio\n",
    "    audio = batch['path']   # already decoded to dict: {\"array\": ..., \"sampling_rate\": ...}\n",
    "        \n",
    "    # Extract features\n",
    "    batch['input_features'] = processor.feature_extractor(audio[\"array\"], \n",
    "                                                    sampling_rate=audio[\"sampling_rate\"]).input_features[0]\n",
    "        \n",
    "    # Tokenize text\n",
    "    batch['labels'] = processor.tokenizer(batch[\"text\"]).input_ids\n",
    "    return batch"
   ]
  },
  {
   "cell_type": "code",
   "execution_count": null,
   "id": "ac83e83f",
   "metadata": {},
   "outputs": [],
   "source": []
  },
  {
   "cell_type": "code",
   "execution_count": null,
   "id": "764bfb98",
   "metadata": {},
   "outputs": [],
   "source": [
    "val_dataset = Dataset.from_pandas(df_val)\n",
    "val_dataset = val_dataset.cast_column(\"path\", Audio(sampling_rate=16000))\n",
    "\n",
    "val_dataset = val_dataset.map(prepare_dataset, batch_size=4, num_proc=1)\n",
    "\n",
    "data_set_path = os.path.join(ROOT_FOLDER, \"data\", \"data_sets\",'prepared_val')\n",
    "\n",
    "val_dataset.save_to_disk(data_set_path)\n",
    "# from datasets import load_from_disk\n",
    "# val_dataset = load_from_disk(data_set_path)"
   ]
  },
  {
   "cell_type": "code",
   "execution_count": null,
   "id": "55cb5a2c",
   "metadata": {},
   "outputs": [],
   "source": [
    "df_train.shape"
   ]
  },
  {
   "cell_type": "code",
   "execution_count": 5,
   "id": "c80ecf63",
   "metadata": {},
   "outputs": [
    {
     "name": "stdout",
     "output_type": "stream",
     "text": [
      "0\n"
     ]
    },
    {
     "name": "stderr",
     "output_type": "stream",
     "text": [
      "Map: 100%|██████████| 128/128 [01:50<00:00,  1.15 examples/s]\n",
      "Saving the dataset (1/1 shards): 100%|██████████| 128/128 [00:00<00:00, 151.41 examples/s]\n"
     ]
    },
    {
     "name": "stdout",
     "output_type": "stream",
     "text": [
      "Saved: prepared_train_part1 -> rows [0:128)\n",
      "1\n"
     ]
    },
    {
     "name": "stderr",
     "output_type": "stream",
     "text": [
      "Map: 100%|██████████| 128/128 [01:46<00:00,  1.20 examples/s]\n",
      "Saving the dataset (1/1 shards): 100%|██████████| 128/128 [00:00<00:00, 144.49 examples/s]\n"
     ]
    },
    {
     "name": "stdout",
     "output_type": "stream",
     "text": [
      "Saved: prepared_train_part2 -> rows [128:256)\n",
      "2\n"
     ]
    },
    {
     "name": "stderr",
     "output_type": "stream",
     "text": [
      "Map: 100%|██████████| 128/128 [01:53<00:00,  1.12 examples/s]\n",
      "Saving the dataset (1/1 shards): 100%|██████████| 128/128 [00:01<00:00, 89.70 examples/s]\n"
     ]
    },
    {
     "name": "stdout",
     "output_type": "stream",
     "text": [
      "Saved: prepared_train_part3 -> rows [256:384)\n",
      "3\n"
     ]
    },
    {
     "name": "stderr",
     "output_type": "stream",
     "text": [
      "Map: 100%|██████████| 128/128 [02:01<00:00,  1.06 examples/s]\n",
      "Saving the dataset (1/1 shards): 100%|██████████| 128/128 [00:00<00:00, 143.16 examples/s]\n"
     ]
    },
    {
     "name": "stdout",
     "output_type": "stream",
     "text": [
      "Saved: prepared_train_part4 -> rows [384:512)\n",
      "4\n"
     ]
    },
    {
     "name": "stderr",
     "output_type": "stream",
     "text": [
      "Map: 100%|██████████| 128/128 [02:01<00:00,  1.06 examples/s]\n",
      "Saving the dataset (1/1 shards): 100%|██████████| 128/128 [00:01<00:00, 121.25 examples/s]\n"
     ]
    },
    {
     "name": "stdout",
     "output_type": "stream",
     "text": [
      "Saved: prepared_train_part5 -> rows [512:640)\n",
      "5\n"
     ]
    },
    {
     "name": "stderr",
     "output_type": "stream",
     "text": [
      "Map: 100%|██████████| 128/128 [01:54<00:00,  1.12 examples/s]\n",
      "Saving the dataset (1/1 shards): 100%|██████████| 128/128 [00:01<00:00, 114.09 examples/s]\n"
     ]
    },
    {
     "name": "stdout",
     "output_type": "stream",
     "text": [
      "Saved: prepared_train_part6 -> rows [640:768)\n",
      "6\n"
     ]
    },
    {
     "name": "stderr",
     "output_type": "stream",
     "text": [
      "Map: 100%|██████████| 128/128 [02:02<00:00,  1.05 examples/s]\n",
      "Saving the dataset (1/1 shards): 100%|██████████| 128/128 [00:00<00:00, 129.18 examples/s]\n"
     ]
    },
    {
     "name": "stdout",
     "output_type": "stream",
     "text": [
      "Saved: prepared_train_part7 -> rows [768:896)\n",
      "7\n"
     ]
    },
    {
     "name": "stderr",
     "output_type": "stream",
     "text": [
      "Map: 100%|██████████| 128/128 [01:47<00:00,  1.19 examples/s]\n",
      "Saving the dataset (1/1 shards): 100%|██████████| 128/128 [00:00<00:00, 211.70 examples/s]\n"
     ]
    },
    {
     "name": "stdout",
     "output_type": "stream",
     "text": [
      "Saved: prepared_train_part8 -> rows [896:1024)\n",
      "8\n"
     ]
    },
    {
     "name": "stderr",
     "output_type": "stream",
     "text": [
      "Map: 100%|██████████| 128/128 [02:07<00:00,  1.00 examples/s]\n",
      "Saving the dataset (1/1 shards): 100%|██████████| 128/128 [00:01<00:00, 109.14 examples/s]\n"
     ]
    },
    {
     "name": "stdout",
     "output_type": "stream",
     "text": [
      "Saved: prepared_train_part9 -> rows [1024:1152)\n",
      "9\n"
     ]
    },
    {
     "name": "stderr",
     "output_type": "stream",
     "text": [
      "Map: 100%|██████████| 128/128 [01:56<00:00,  1.10 examples/s]\n",
      "Saving the dataset (1/1 shards): 100%|██████████| 128/128 [00:00<00:00, 142.64 examples/s]\n"
     ]
    },
    {
     "name": "stdout",
     "output_type": "stream",
     "text": [
      "Saved: prepared_train_part10 -> rows [1152:1280)\n",
      "10\n"
     ]
    },
    {
     "name": "stderr",
     "output_type": "stream",
     "text": [
      "Map: 100%|██████████| 128/128 [01:50<00:00,  1.15 examples/s]\n",
      "Saving the dataset (1/1 shards): 100%|██████████| 128/128 [00:00<00:00, 129.98 examples/s]\n"
     ]
    },
    {
     "name": "stdout",
     "output_type": "stream",
     "text": [
      "Saved: prepared_train_part11 -> rows [1280:1408)\n",
      "11\n"
     ]
    },
    {
     "name": "stderr",
     "output_type": "stream",
     "text": [
      "Map: 100%|██████████| 128/128 [01:54<00:00,  1.12 examples/s]\n",
      "Saving the dataset (1/1 shards): 100%|██████████| 128/128 [00:01<00:00, 98.27 examples/s]\n"
     ]
    },
    {
     "name": "stdout",
     "output_type": "stream",
     "text": [
      "Saved: prepared_train_part12 -> rows [1408:1536)\n",
      "12\n"
     ]
    },
    {
     "name": "stderr",
     "output_type": "stream",
     "text": [
      "Map: 100%|██████████| 128/128 [01:50<00:00,  1.15 examples/s]\n",
      "Saving the dataset (1/1 shards): 100%|██████████| 128/128 [00:01<00:00, 100.99 examples/s]\n"
     ]
    },
    {
     "name": "stdout",
     "output_type": "stream",
     "text": [
      "Saved: prepared_train_part13 -> rows [1536:1664)\n",
      "13\n"
     ]
    },
    {
     "name": "stderr",
     "output_type": "stream",
     "text": [
      "Map: 100%|██████████| 128/128 [01:47<00:00,  1.19 examples/s]\n",
      "Saving the dataset (1/1 shards): 100%|██████████| 128/128 [00:00<00:00, 190.02 examples/s]\n"
     ]
    },
    {
     "name": "stdout",
     "output_type": "stream",
     "text": [
      "Saved: prepared_train_part14 -> rows [1664:1792)\n",
      "14\n"
     ]
    },
    {
     "name": "stderr",
     "output_type": "stream",
     "text": [
      "Map: 100%|██████████| 128/128 [01:56<00:00,  1.10 examples/s]\n",
      "Saving the dataset (1/1 shards): 100%|██████████| 128/128 [00:00<00:00, 139.23 examples/s]\n"
     ]
    },
    {
     "name": "stdout",
     "output_type": "stream",
     "text": [
      "Saved: prepared_train_part15 -> rows [1792:1920)\n",
      "15\n"
     ]
    },
    {
     "name": "stderr",
     "output_type": "stream",
     "text": [
      "Map: 100%|██████████| 128/128 [01:47<00:00,  1.19 examples/s]\n",
      "Saving the dataset (1/1 shards): 100%|██████████| 128/128 [00:00<00:00, 157.33 examples/s]\n"
     ]
    },
    {
     "name": "stdout",
     "output_type": "stream",
     "text": [
      "Saved: prepared_train_part16 -> rows [1920:2048)\n",
      "16\n"
     ]
    },
    {
     "name": "stderr",
     "output_type": "stream",
     "text": [
      "Map: 100%|██████████| 128/128 [01:50<00:00,  1.16 examples/s]\n",
      "Saving the dataset (1/1 shards): 100%|██████████| 128/128 [00:00<00:00, 180.03 examples/s]\n"
     ]
    },
    {
     "name": "stdout",
     "output_type": "stream",
     "text": [
      "Saved: prepared_train_part17 -> rows [2048:2176)\n",
      "17\n"
     ]
    },
    {
     "name": "stderr",
     "output_type": "stream",
     "text": [
      "Map: 100%|██████████| 128/128 [01:51<00:00,  1.15 examples/s]\n",
      "Saving the dataset (1/1 shards): 100%|██████████| 128/128 [00:00<00:00, 145.92 examples/s]\n"
     ]
    },
    {
     "name": "stdout",
     "output_type": "stream",
     "text": [
      "Saved: prepared_train_part18 -> rows [2176:2304)\n",
      "18\n"
     ]
    },
    {
     "name": "stderr",
     "output_type": "stream",
     "text": [
      "Map: 100%|██████████| 128/128 [01:48<00:00,  1.18 examples/s]\n",
      "Saving the dataset (1/1 shards): 100%|██████████| 128/128 [00:00<00:00, 158.28 examples/s]\n"
     ]
    },
    {
     "name": "stdout",
     "output_type": "stream",
     "text": [
      "Saved: prepared_train_part19 -> rows [2304:2432)\n",
      "19\n"
     ]
    },
    {
     "name": "stderr",
     "output_type": "stream",
     "text": [
      "Map: 100%|██████████| 126/126 [01:49<00:00,  1.15 examples/s]\n",
      "Saving the dataset (1/1 shards): 100%|██████████| 126/126 [00:00<00:00, 199.65 examples/s]"
     ]
    },
    {
     "name": "stdout",
     "output_type": "stream",
     "text": [
      "Saved: prepared_train_part20 -> rows [2432:2560)\n"
     ]
    },
    {
     "name": "stderr",
     "output_type": "stream",
     "text": [
      "\n"
     ]
    }
   ],
   "source": [
    "df_train_copy = df_train.copy()\n",
    "\n",
    "# Parameters\n",
    "total_rows = len(df_train_copy) \n",
    "n_parts = 20\n",
    "part_size = total_rows // n_parts  + 1\n",
    "\n",
    "# Create base output directory\n",
    "base_out_dir = os.path.join(ROOT_FOLDER, \"data\", \"data_sets\")\n",
    "\n",
    "for i in range(n_parts):\n",
    "    print(i)\n",
    "    start = i * part_size\n",
    "    end = start + part_size\n",
    "    df_part = df_train_copy.iloc[start:end]\n",
    "\n",
    "    # Convert to Dataset\n",
    "    train_dataset = Dataset.from_pandas(df_part, preserve_index=False)\n",
    "\n",
    "    # Cast audio column\n",
    "    train_dataset = train_dataset.cast_column(\"path\", Audio(sampling_rate=16000))\n",
    "\n",
    "    # Map preprocessing\n",
    "    train_dataset = train_dataset.map(\n",
    "        prepare_dataset,\n",
    "        batch_size=1,\n",
    "        num_proc=1\n",
    "    )\n",
    "\n",
    "    # Save to disk\n",
    "    part_name = f\"prepared_train_part{i+1}\"\n",
    "    data_set_path = os.path.join(base_out_dir, part_name)\n",
    "    train_dataset.save_to_disk(data_set_path)\n",
    "\n",
    "    print(f\"Saved: {part_name} -> rows [{start}:{end})\")\n"
   ]
  },
  {
   "cell_type": "code",
   "execution_count": null,
   "id": "bebc66d2",
   "metadata": {},
   "outputs": [],
   "source": [
    "class DataCollatorSpeechSeq2SeqWithPadding:\n",
    "    \n",
    "    def __init__(self, processor: Any, decoder_start_token_id: int):\n",
    "        self.processor = processor\n",
    "        self.decoder_start_token_id = decoder_start_token_id\n",
    "\n",
    "    def __call__(self, features: List[Dict[str, Union[List[int], torch.Tensor]]]) -> Dict[str, torch.Tensor]:\n",
    "        input_features = [{'input_features': feature['input_features']} for feature in features]\n",
    "        batch = self.processor.feature_extractor.pad(input_features, return_tensors='pt')\n",
    " \n",
    "        label_features = [{'input_ids': feature['labels'][:448]} for feature in features]\n",
    "        labels_batch = self.processor.tokenizer.pad(label_features, return_tensors='pt')\n",
    " \n",
    "        labels = labels_batch['input_ids'].masked_fill(labels_batch.attention_mask.ne(1), -100)\n",
    " \n",
    "        if (labels[:, 0] == self.decoder_start_token_id).all().cpu().item():\n",
    "            labels = labels[:, 1:]\n",
    " \n",
    "        batch['labels'] = labels\n",
    " \n",
    "        return batch\n",
    "\n",
    "\n",
    "data_collator = DataCollatorSpeechSeq2SeqWithPadding(\n",
    "    processor=processor,\n",
    "    decoder_start_token_id=model.config.decoder_start_token_id,\n",
    ")\n",
    "\n",
    "metric = evaluate.load('wer')\n",
    " \n",
    "def compute_metrics(pred):\n",
    "    pred_ids = pred.predictions\n",
    "    label_ids = pred.label_ids\n",
    " \n",
    "    # replace -100 with the pad_token_id\n",
    "    label_ids[label_ids == -100] = tokenizer.pad_token_id\n",
    " \n",
    "    # we do not want to group tokens when computing the metrics\n",
    "    pred_str = tokenizer.batch_decode(pred_ids, skip_special_tokens=True)\n",
    "    label_str = tokenizer.batch_decode(label_ids, skip_special_tokens=True)\n",
    " \n",
    "    wer = 100 * metric.compute(predictions=pred_str, references=label_str)\n",
    " \n",
    "    return {'wer': wer}\n"
   ]
  },
  {
   "cell_type": "code",
   "execution_count": null,
   "id": "a39623c5",
   "metadata": {},
   "outputs": [],
   "source": [
    "#parameters\n",
    "out_dir = os.path.join(ROOT_FOLDER, 'finetuned_model_files')\n",
    "batch_size = 1\n",
    "gradient_accum = 8\n",
    "epochs = 10\n",
    "dataloader_num = 8"
   ]
  },
  {
   "cell_type": "code",
   "execution_count": null,
   "id": "ca42705b",
   "metadata": {},
   "outputs": [],
   "source": [
    "training_args = Seq2SeqTrainingArguments(\n",
    "    output_dir=out_dir,\n",
    "    per_device_train_batch_size=batch_size,\n",
    "    per_device_eval_batch_size=batch_size,\n",
    "    gradient_accumulation_steps= gradient_accum,\n",
    "    learning_rate=0.00001,\n",
    "    warmup_steps=1000,\n",
    "    bf16=False,\n",
    "    fp16=True,\n",
    "    num_train_epochs=epochs,\n",
    "    eval_strategy='epoch',\n",
    "    logging_strategy='epoch',\n",
    "    save_strategy='epoch',\n",
    "    predict_with_generate=True,\n",
    "    generation_max_length=225,\n",
    "    report_to=['tensorboard'],\n",
    "    load_best_model_at_end=True,\n",
    "    metric_for_best_model='wer',\n",
    "    greater_is_better=False,\n",
    "    dataloader_num_workers= dataloader_num,\n",
    "    save_total_limit=2,\n",
    "    lr_scheduler_type='constant',\n",
    "    seed=42,\n",
    "    data_seed=42\n",
    ")"
   ]
  },
  {
   "cell_type": "code",
   "execution_count": null,
   "id": "5a67c0af",
   "metadata": {},
   "outputs": [],
   "source": [
    "trainer = Seq2SeqTrainer(\n",
    "    args=training_args,\n",
    "    model=model,\n",
    "    train_dataset=train_dataset,\n",
    "    eval_dataset=val_dataset,\n",
    "    data_collator=data_collator,\n",
    "    compute_metrics=compute_metrics,\n",
    "    tokenizer=processor.feature_extractor,\n",
    ")"
   ]
  },
  {
   "cell_type": "code",
   "execution_count": null,
   "id": "0232c85a",
   "metadata": {},
   "outputs": [],
   "source": [
    "\t\n",
    "trainer.train()"
   ]
  },
  {
   "cell_type": "code",
   "execution_count": null,
   "id": "b5e5bf0a",
   "metadata": {},
   "outputs": [],
   "source": []
  },
  {
   "cell_type": "code",
   "execution_count": null,
   "id": "6df11ef9",
   "metadata": {},
   "outputs": [],
   "source": []
  },
  {
   "cell_type": "code",
   "execution_count": null,
   "id": "746ebaec",
   "metadata": {},
   "outputs": [],
   "source": []
  },
  {
   "cell_type": "markdown",
   "id": "879c7524",
   "metadata": {},
   "source": []
  }
 ],
 "metadata": {
  "kernelspec": {
   "display_name": "CallWise-_7ZTO6Qn",
   "language": "python",
   "name": "python3"
  },
  "language_info": {
   "codemirror_mode": {
    "name": "ipython",
    "version": 3
   },
   "file_extension": ".py",
   "mimetype": "text/x-python",
   "name": "python",
   "nbconvert_exporter": "python",
   "pygments_lexer": "ipython3",
   "version": "3.12.4"
  }
 },
 "nbformat": 4,
 "nbformat_minor": 5
}
