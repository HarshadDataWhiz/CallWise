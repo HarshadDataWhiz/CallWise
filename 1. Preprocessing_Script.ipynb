{
 "cells": [
  {
   "cell_type": "code",
   "execution_count": null,
   "id": "52c61f19",
   "metadata": {},
   "outputs": [],
   "source": [
    "import pandas as pd\n",
    "import os\n",
    "import librosa.display\n",
    "import ast\n",
    "import soundfile as sf\n",
    "# Function to perform Voice Activity Detection (VAD)\n",
    "from Model.Preprocessing import Preprocessing\n",
    "import json\n"
   ]
  },
  {
   "cell_type": "code",
   "execution_count": 2,
   "id": "e6a86d74",
   "metadata": {},
   "outputs": [],
   "source": [
    "ROOT_FOLDER = ''\n",
    "folder_path = os.path.join(ROOT_FOLDER, 'data/Rec/')\n",
    "audio_files = os.listdir(folder_path)\n",
    "Transcript_df = pd.read_csv(os.path.join(ROOT_FOLDER, 'data/Transcription_data_from_mihub.csv'))"
   ]
  },
  {
   "cell_type": "code",
   "execution_count": 3,
   "id": "059e4acd",
   "metadata": {},
   "outputs": [
    {
     "name": "stdout",
     "output_type": "stream",
     "text": [
      "(956, 7)\n",
      "956\n"
     ]
    }
   ],
   "source": [
    "print(Transcript_df.shape)\n",
    "print(Transcript_df['audio_name'].nunique())\n",
    "temp_list = list(Transcript_df['audio_name'])"
   ]
  },
  {
   "cell_type": "code",
   "execution_count": 4,
   "id": "c752e42c",
   "metadata": {},
   "outputs": [
    {
     "name": "stdout",
     "output_type": "stream",
     "text": [
      "0\n",
      "50\n",
      "50\n",
      "100\n",
      "150\n",
      "200\n",
      "250\n",
      "300\n",
      "350\n",
      "400\n",
      "450\n",
      "500\n",
      "500\n",
      "550\n",
      "600\n",
      "650\n",
      "700\n",
      "750\n",
      "800\n"
     ]
    }
   ],
   "source": [
    "cnt_process = 0\n",
    "transcript_json = {}\n",
    "for filename in audio_files:\n",
    "    if cnt_process%50 == 0:\n",
    "        print(cnt_process)\n",
    "    if filename in temp_list:\n",
    "        try:\n",
    "            Pre_class = Preprocessing(audio_path = os.path.join(ROOT_FOLDER,'data/Rec/',filename))\n",
    "            Pre_class.separate_channels()\n",
    "            lc,rc, sr = Pre_class.extract_segments()\n",
    "\n",
    "            trans = ast.literal_eval(Transcript_df[Transcript_df['audio_name'] == filename]['transcription'].iloc[0])\n",
    "            speaker = ast.literal_eval(Transcript_df[Transcript_df['audio_name'] == filename]['speaker'].iloc[0])\n",
    "\n",
    "            # if (len(lc)/sr <= 5) or (len(rc)/sr <= 5) or (len(trans) != len(speaker)):\n",
    "            #     continue\n",
    "            \n",
    "            segment_path = os.path.join(ROOT_FOLDER,'data/Processed_Files',f\"{filename}_lc.wav\")\n",
    "            sf.write(segment_path, lc, sr)\n",
    "            segment_path = os.path.join(ROOT_FOLDER,'data/Processed_Files',f\"{filename}_rc.wav\")\n",
    "            sf.write(segment_path, rc, sr)\n",
    "            trans_lc = []#agent \n",
    "            trans_rc = []#customer\n",
    "            for i in range(len(trans)):\n",
    "                if speaker[i] == 'agent':\n",
    "                    trans_lc.append(trans[i])\n",
    "                else:\n",
    "                    trans_rc.append(trans[i])\n",
    "            \n",
    "            transcript_json[f\"{filename}_lc.wav\"]  = \" \".join(trans_lc)\n",
    "            transcript_json[f\"{filename}_rc.wav\"]  = \" \".join(trans_rc)\n",
    "            cnt_process += 1\n",
    "        except:\n",
    "            pass\n",
    "\n",
    "save_path = os.path.join(ROOT_FOLDER, 'data/Processed_Files', \"Transcript.json\")\n",
    "with open(save_path, \"w\", encoding=\"utf-8\") as f:\n",
    "    json.dump(transcript_json, f, ensure_ascii=False, indent=4)\n"
   ]
  },
  {
   "cell_type": "code",
   "execution_count": 5,
   "id": "0d9aa9dc",
   "metadata": {},
   "outputs": [
    {
     "name": "stdout",
     "output_type": "stream",
     "text": [
      "813\n"
     ]
    }
   ],
   "source": [
    "print(cnt_process)"
   ]
  },
  {
   "cell_type": "code",
   "execution_count": null,
   "id": "33dd62d1",
   "metadata": {},
   "outputs": [],
   "source": [
    "# Read JSON file\n",
    "with open(os.path.join(ROOT_FOLDER, 'data/Processed_Files', \"Transcript.json\"), \"r\", encoding=\"utf-8\") as f:\n",
    "    transcript_json = json.load(f)\n",
    "file = '20241208090446_9873656524.mp3_lc.wav'"
   ]
  },
  {
   "cell_type": "code",
   "execution_count": null,
   "id": "535ef168",
   "metadata": {},
   "outputs": [],
   "source": [
    "audio, sr = librosa.load(os.path.join(ROOT_FOLDER,'data/Processed_Files/',file), mono=True, sr=16000)"
   ]
  },
  {
   "cell_type": "code",
   "execution_count": null,
   "id": "16d89bf2",
   "metadata": {},
   "outputs": [],
   "source": [
    "import torchaudio\n",
    "import matplotlib.pyplot as plt\n",
    "from IPython.display import Audio\n",
    "display(Audio(audio, rate=sr))"
   ]
  },
  {
   "cell_type": "code",
   "execution_count": null,
   "id": "7672245a",
   "metadata": {},
   "outputs": [],
   "source": [
    "transcript_json[file]"
   ]
  }
 ],
 "metadata": {
  "kernelspec": {
   "display_name": "CollectWise-7aTbe7cb",
   "language": "python",
   "name": "python3"
  },
  "language_info": {
   "codemirror_mode": {
    "name": "ipython",
    "version": 3
   },
   "file_extension": ".py",
   "mimetype": "text/x-python",
   "name": "python",
   "nbconvert_exporter": "python",
   "pygments_lexer": "ipython3",
   "version": "3.12.4"
  }
 },
 "nbformat": 4,
 "nbformat_minor": 5
}
